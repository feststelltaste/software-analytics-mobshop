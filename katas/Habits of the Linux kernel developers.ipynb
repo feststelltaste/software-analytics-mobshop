{
 "cells": [
  {
   "cell_type": "markdown",
   "metadata": {},
   "source": [
    "# Habits of the Linux kernel developers"
   ]
  },
  {
   "cell_type": "markdown",
   "metadata": {},
   "source": [
    "## The analysis goal\n",
    "In this kata, we want to find out for the Linux kernel software project \n",
    "* Question 1: At what hour of the day the commits are made?\n",
    "* Question 2: At which weekday commits occur?\n",
    "* Question 3: How the daily progress of the development was?"
   ]
  },
  {
   "cell_type": "markdown",
   "metadata": {},
   "source": [
    "## The dataset\n",
    "\n",
    "The dataset is in  `../datasets/git_log_linux_authors_timestamps.gz`."
   ]
  },
  {
   "cell_type": "code",
   "execution_count": null,
   "metadata": {},
   "outputs": [],
   "source": []
  },
  {
   "cell_type": "markdown",
   "metadata": {},
   "source": [
    "### Question 1: Daytime of Commits\n",
    "\n",
    "* Question 1: At what hour of the day the commits are made?"
   ]
  },
  {
   "cell_type": "markdown",
   "metadata": {},
   "source": [
    "### Question 2: Commits per weekday\n",
    "\n",
    "* Question 2: At which weekday commits occur?"
   ]
  },
  {
   "cell_type": "markdown",
   "metadata": {},
   "source": [
    "### Question 3: Overall daily progress\n",
    "\n",
    "* Question 3: How the daily progress of the development was?"
   ]
  }
 ],
 "metadata": {
  "kernelspec": {
   "display_name": "Python 3",
   "language": "python",
   "name": "python3"
  },
  "language_info": {
   "codemirror_mode": {
    "name": "ipython",
    "version": 3
   },
   "file_extension": ".py",
   "mimetype": "text/x-python",
   "name": "python",
   "nbconvert_exporter": "python",
   "pygments_lexer": "ipython3",
   "version": "3.8.3"
  }
 },
 "nbformat": 4,
 "nbformat_minor": 2
}
